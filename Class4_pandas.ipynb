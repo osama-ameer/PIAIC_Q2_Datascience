{
 "cells": [
  {
   "cell_type": "code",
   "execution_count": 2,
   "metadata": {},
   "outputs": [
    {
     "name": "stdout",
     "output_type": "stream",
     "text": [
      "Found directory: .\n",
      "\tclass_2.ipynb\n",
      "\tclass_3_6_oct_2019.ipynb\n",
      "\tClass_4_13Oct,2019.ipynb\n",
      "Found directory: .\\.ipynb_checkpoints\n",
      "\tclass_2-checkpoint.ipynb\n",
      "\tclass_3_6_oct_2019-checkpoint.ipynb\n",
      "\tClass_4_13Oct,2019-checkpoint.ipynb\n"
     ]
    }
   ],
   "source": [
    "import os\n",
    "# Set the directory you want to start from\n",
    "rootDir = '.'\n",
    "for dirName, subdirList, fileList in os.walk(rootDir):\n",
    "    print('Found directory: %s' % dirName)\n",
    "    for fname in fileList:\n",
    "        print('\\t%s' % fname)"
   ]
  },
  {
   "cell_type": "code",
   "execution_count": 13,
   "metadata": {},
   "outputs": [
    {
     "name": "stdout",
     "output_type": "stream",
     "text": [
      "January\n",
      "[1, 2, 3, 4, 5, 6, 7]\n",
      "mon      20\n",
      "tue      30\n",
      "wed      20\n",
      "thurs    25\n",
      "fri      30\n",
      "sat      40\n",
      "sun       0\n",
      "dtype: int64\n"
     ]
    }
   ],
   "source": [
    "#Chapter 5 Padnas\n",
    "\n",
    "import pandas as pd\n",
    "import calendar as cal\n",
    "print(cal.month_name[1])\n",
    "d=list(range(1,8))\n",
    "print(d)\n",
    "sw=pd.Series([20,30,20,25,30,40,0],\n",
    "            index=['mon','tue','wed','thurs','fri','sat','sun'])\n",
    "print(sw)"
   ]
  },
  {
   "cell_type": "code",
   "execution_count": 19,
   "metadata": {},
   "outputs": [
    {
     "name": "stdout",
     "output_type": "stream",
     "text": [
      "tue    30\n",
      "dtype: int64\n",
      "thurs    25\n",
      "sat      40\n",
      "dtype: int64\n",
      "mon    20\n",
      "fri    30\n",
      "dtype: int64\n"
     ]
    }
   ],
   "source": [
    "print(sw[[1]])\n",
    "print(sw[[3,5]])\n",
    "\n",
    "print(sw[[\"mon\",'fri']])"
   ]
  },
  {
   "cell_type": "code",
   "execution_count": 20,
   "metadata": {},
   "outputs": [
    {
     "name": "stdout",
     "output_type": "stream",
     "text": [
      "mon      False\n",
      "tue       True\n",
      "wed      False\n",
      "thurs     True\n",
      "fri       True\n",
      "sat       True\n",
      "sun      False\n",
      "dtype: bool\n",
      "\n"
     ]
    }
   ],
   "source": [
    "print(sw>20)\n",
    "print()\n"
   ]
  },
  {
   "cell_type": "code",
   "execution_count": 23,
   "metadata": {},
   "outputs": [
    {
     "data": {
      "text/plain": [
       "mon      40\n",
       "tue      60\n",
       "wed      40\n",
       "thurs    50\n",
       "fri      60\n",
       "sat      80\n",
       "sun       0\n",
       "dtype: int64"
      ]
     },
     "execution_count": 23,
     "metadata": {},
     "output_type": "execute_result"
    }
   ],
   "source": [
    "series=sw*2\n",
    "series"
   ]
  },
  {
   "cell_type": "code",
   "execution_count": 24,
   "metadata": {},
   "outputs": [
    {
     "data": {
      "text/plain": [
       "True"
      ]
     },
     "execution_count": 24,
     "metadata": {},
     "output_type": "execute_result"
    }
   ],
   "source": [
    "'mon' in sw"
   ]
  },
  {
   "cell_type": "code",
   "execution_count": 27,
   "metadata": {},
   "outputs": [
    {
     "name": "stdout",
     "output_type": "stream",
     "text": [
      "3    a\n",
      "2    b\n",
      "4    c\n",
      "5    d\n",
      "6    e\n",
      "dtype: object\n"
     ]
    }
   ],
   "source": [
    "import numpy as np\n",
    "arr=np.array([3,2,4,5,6])\n",
    "ind=np.array(['a','b','c','d','e'])\n",
    "\n",
    "obj2=pd.Series(ind,index=arr)\n",
    "print(obj2)"
   ]
  },
  {
   "cell_type": "code",
   "execution_count": 33,
   "metadata": {},
   "outputs": [
    {
     "name": "stdout",
     "output_type": "stream",
     "text": [
      "Sindh          4500\n",
      "Punjab          450\n",
      "KPK            3000\n",
      "Balochistan    2000\n",
      "dtype: int64\n",
      "Index(['Sindh', 'Punjab', 'KPK', 'Balochistan'], dtype='object')\n",
      "Sindh          False\n",
      "Punjab         False\n",
      "KPK            False\n",
      "Balochistan    False\n",
      "dtype: bool\n"
     ]
    }
   ],
   "source": [
    "sdata={\"Sindh\":4500, \"Punjab\": 450, \"KPK\":3000, \"Balochistan\":2000}\n",
    "tax_by_state=pd.Series(sdata,\n",
    "                      index=[\"Sindh\", \"Punjab\", \"KPK\", \"Balochistan\",\"GB\"])\n",
    "print(tax_by_state)\n",
    "print(tax_by_state.index)\n",
    "print(pd.isnull(tax_by_state))"
   ]
  },
  {
   "cell_type": "code",
   "execution_count": 40,
   "metadata": {},
   "outputs": [
    {
     "name": "stdout",
     "output_type": "stream",
     "text": [
      "mon     20\n",
      "tue     30\n",
      "wed     40\n",
      "thur    25\n",
      "fri     30\n",
      "sat     40\n",
      "sun      0\n",
      "dtype: int64\n",
      "m    20\n",
      "t    30\n",
      "w    40\n",
      "t    25\n",
      "f    30\n",
      "s    40\n",
      "s     0\n",
      "dtype: int64\n"
     ]
    }
   ],
   "source": [
    "sw=pd.Series([20,30,40,25,30,40,0],\n",
    "            index=['mon','tue','wed','thur','fri','sat','sun'])\n",
    "print(sw)\n",
    "sw.index=[\"m\",\"t\",\"w\",\"t\",\"f\",\"s\",\"s\"]\n",
    "print(sw)"
   ]
  },
  {
   "cell_type": "code",
   "execution_count": null,
   "metadata": {},
   "outputs": [],
   "source": []
  }
 ],
 "metadata": {
  "kernelspec": {
   "display_name": "Python 3",
   "language": "python",
   "name": "python3"
  },
  "language_info": {
   "codemirror_mode": {
    "name": "ipython",
    "version": 3
   },
   "file_extension": ".py",
   "mimetype": "text/x-python",
   "name": "python",
   "nbconvert_exporter": "python",
   "pygments_lexer": "ipython3",
   "version": "3.7.3"
  }
 },
 "nbformat": 4,
 "nbformat_minor": 2
}
