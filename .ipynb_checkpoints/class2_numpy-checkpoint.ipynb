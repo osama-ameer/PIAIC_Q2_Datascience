{
 "cells": [
  {
   "cell_type": "code",
   "execution_count": 8,
   "metadata": {},
   "outputs": [
    {
     "name": "stdout",
     "output_type": "stream",
     "text": [
      "Array: \n",
      " [[[111 112 113]\n",
      "  [121 122 123]]\n",
      "\n",
      " [[211 212 213]\n",
      "  [221 222 223]]\n",
      "\n",
      " [[311 312 313]\n",
      "  [321 322 323]]\n",
      "\n",
      " [[411 412 413]\n",
      "  [421 422 423]]]\n",
      "\n",
      "\n",
      "Shape (4, 2, 3)\n",
      "Size 24\n",
      "Dimension 3\n"
     ]
    }
   ],
   "source": [
    "#4 plot , 2 hissy, 3 hissy\n",
    "\n",
    "\n",
    "import numpy as np\n",
    "d3 = np.asarray([\n",
    "    [\n",
    "        [111,112,113],\n",
    "        [121,122,123]\n",
    "    ],\n",
    "    [\n",
    "        [211,212,213],\n",
    "        [221,222,223]\n",
    "    ],\n",
    "    [\n",
    "        [311,312,313],\n",
    "        [321,322,323]\n",
    "    ],\n",
    "    [\n",
    "        [411,412,413],\n",
    "        [421,422,423]\n",
    "    ]\n",
    "    ])\n",
    "\n",
    "print(\"Array: \\n\",d3)\n",
    "print(\"\\n\\nShape\",d3.shape)\n",
    "print(\"Size\",d3.size)\n",
    "print(\"Dimension\",d3.ndim)"
   ]
  },
  {
   "cell_type": "code",
   "execution_count": null,
   "metadata": {},
   "outputs": [],
   "source": []
  }
 ],
 "metadata": {
  "kernelspec": {
   "display_name": "Python 3",
   "language": "python",
   "name": "python3"
  }
 },
 "nbformat": 4,
 "nbformat_minor": 2
}
