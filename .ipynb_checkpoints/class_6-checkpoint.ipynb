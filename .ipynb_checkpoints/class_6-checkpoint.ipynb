{
 "cells": [
  {
   "cell_type": "code",
   "execution_count": 14,
   "metadata": {},
   "outputs": [
    {
     "name": "stdout",
     "output_type": "stream",
     "text": [
      "  studentid         name   chimestry   physics   english   math\n",
      "0       A01     arif ali          20        30        40     50\n",
      "1       A02  kamran khan          30        40        50     60\n",
      "2       A03   imran ali           40        50        60     70\n",
      "3       A04  kashif khan          50        60        70     80\n",
      "\n",
      "\n",
      "    id        names  ch  ph  en  maths\n",
      "0  A01     arif ali  20  30  40     50\n",
      "1  A02  kamran khan  30  40  50     60\n",
      "2  A03   imran ali   40  50  60     70\n",
      "3  A04  kashif khan  50  60  70     80\n"
     ]
    }
   ],
   "source": [
    "import pandas as pd\n",
    "sample =pd.read_csv(\"examples/sample.csv\")\n",
    "print(sample_df)\n",
    "print(\"\\n\")\n",
    "\n",
    "sample= pd.read_csv(\"examples/sample.csv\", skiprows=1,names=['id','names','ch','ph','en','maths'])\n",
    "print(sample)"
   ]
  },
  {
   "cell_type": "code",
   "execution_count": 17,
   "metadata": {},
   "outputs": [
    {
     "name": "stdout",
     "output_type": "stream",
     "text": [
      "hello\n"
     ]
    }
   ],
   "source": [
    "print('hello')\n"
   ]
  },
  {
   "cell_type": "code",
   "execution_count": null,
   "metadata": {},
   "outputs": [],
   "source": []
  }
 ],
 "metadata": {
  "kernelspec": {
   "display_name": "Python 3",
   "language": "python",
   "name": "python3"
  },
  "language_info": {
   "codemirror_mode": {
    "name": "ipython",
    "version": 3
   },
   "file_extension": ".py",
   "mimetype": "text/x-python",
   "name": "python",
   "nbconvert_exporter": "python",
   "pygments_lexer": "ipython3",
   "version": "3.7.3"
  }
 },
 "nbformat": 4,
 "nbformat_minor": 2
}
