{
 "cells": [
  {
   "cell_type": "code",
   "execution_count": 23,
   "metadata": {},
   "outputs": [
    {
     "name": "stdout",
     "output_type": "stream",
     "text": [
      "Before resizeing:  (479, 640, 3) \t After resizing:  (200, 200, 3) \tDimension:  3\n",
      "Before resizeing:  (480, 640, 3) \t After resizing:  (200, 200, 3) \tDimension:  3\n",
      "Before resizeing:  (453, 677, 3) \t After resizing:  (200, 200, 3) \tDimension:  3\n",
      "Before resizeing:  (318, 425, 3) \t After resizing:  (200, 200, 3) \tDimension:  3\n",
      "Before resizeing:  (340, 510, 3) \t After resizing:  (200, 200, 3) \tDimension:  3\n",
      "Before resizeing:  (366, 550, 3) \t After resizing:  (200, 200, 3) \tDimension:  3\n",
      "Before resizeing:  (318, 425, 3) \t After resizing:  (200, 200, 3) \tDimension:  3\n",
      "Before resizeing:  (452, 678, 3) \t After resizing:  (200, 200, 3) \tDimension:  3\n",
      "Before resizeing:  (333, 500, 3) \t After resizing:  (200, 200, 3) \tDimension:  3\n",
      "Before resizeing:  (480, 640, 3) \t After resizing:  (200, 200, 3) \tDimension:  3\n",
      "Before resizeing:  (480, 639, 3) \t After resizing:  (200, 200, 3) \tDimension:  3\n",
      "Before resizeing:  (333, 500, 3) \t After resizing:  (200, 200, 3) \tDimension:  3\n",
      "Before resizeing:  (200, 200, 3) \t After resizing:  (200, 200, 3) \tDimension:  3\n",
      "Before resizeing:  (340, 641, 3) \t After resizing:  (200, 200, 3) \tDimension:  3\n"
     ]
    }
   ],
   "source": [
    "from PIL import Image\n",
    "import os\n",
    "import sys\n",
    "import numpy as np\n",
    "import sys\n",
    "\n",
    "def image_to_numpy():    \n",
    "   \n",
    "     #using pillow to find images in current directory\n",
    "    for f in os.listdir('.'):\n",
    "        if f.endswith('.jpg'):\n",
    "            im = Image.open(f)\n",
    "            fn,fext = os.path.splitext(f)\n",
    "            #print(fn,fext)\n",
    "            \n",
    "        #Converting images to numpy array\n",
    "            np_im = np.array(im)\n",
    "            img_arr=np.array(np_im)\n",
    "        \n",
    "        #Resizing images\n",
    "            img_arr1=img_arr[:200,:200,:3]\n",
    "            print(\"Before resizeing: \",img_arr.shape, \"\\t After resizing: \",img_arr1.shape,\"\\tDimension: \",img_arr.ndim)\n",
    "            \n",
    "            \n",
    "            #print(\"Shape: \" ,img_arr.shape)\n",
    "            #print(\"Dimension: \",img_arr.ndim)\n",
    "           # print(img_arr)\n",
    "\n",
    "def main():\n",
    "     image_to_numpy()\n",
    "      \n",
    "if __name__ == \"__main__\":\n",
    "     main()\n",
    "  "
   ]
  },
  {
   "cell_type": "code",
   "execution_count": null,
   "metadata": {},
   "outputs": [],
   "source": [
    "\n",
    "    "
   ]
  },
  {
   "cell_type": "code",
   "execution_count": null,
   "metadata": {},
   "outputs": [],
   "source": []
  },
  {
   "cell_type": "code",
   "execution_count": null,
   "metadata": {},
   "outputs": [],
   "source": []
  }
 ],
 "metadata": {
  "kernelspec": {
   "display_name": "Python 3",
   "language": "python",
   "name": "python3"
  },
  "language_info": {
   "codemirror_mode": {
    "name": "ipython",
    "version": 3
   },
   "file_extension": ".py",
   "mimetype": "text/x-python",
   "name": "python",
   "nbconvert_exporter": "python",
   "pygments_lexer": "ipython3",
   "version": "3.7.3"
  }
 },
 "nbformat": 4,
 "nbformat_minor": 2
}
